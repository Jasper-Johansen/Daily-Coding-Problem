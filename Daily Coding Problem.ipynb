{
 "cells": [
  {
   "cell_type": "markdown",
   "id": "34884bed-47dd-4a2c-99db-426f1b7e3d28",
   "metadata": {},
   "source": [
    "### Problem #1 [Easy] \n",
    "This problem was recently asked by Google.\n",
    "\n",
    "Given a list of numbers and a number <code>k</code>, return whether any two numbers from the list add up to k.\n",
    "\n",
    "For example, given <code>[10, 15, 3, 7]</code> and <code>k</code> of <code>17</code>, return <code>true</code> since <code>10 + 7</code> is <code>17</code>.\n",
    "\n",
    "Bonus: Can you do this in one pass?"
   ]
  },
  {
   "cell_type": "code",
   "execution_count": 18,
   "id": "8b79b58c-5c13-4bab-a716-d262c534990c",
   "metadata": {},
   "outputs": [
    {
     "data": {
      "text/plain": [
       "False"
      ]
     },
     "execution_count": 18,
     "metadata": {},
     "output_type": "execute_result"
    }
   ],
   "source": [
    "#Solution1\n",
    "def k_is_sum(L,K):\n",
    "    for l in L:\n",
    "        for k in L:\n",
    "            if l+k ==K and l!=k:\n",
    "                return True\n",
    "    return False\n",
    "\n",
    "\n",
    "L = [10, 15, 3, 7]\n",
    "K = 20\n",
    "k_is_sum(L,K)   #The complexity is O(n^2)"
   ]
  },
  {
   "cell_type": "code",
   "execution_count": 19,
   "id": "4f6e0cab-fec7-4f85-b4fe-1c3c7899a568",
   "metadata": {},
   "outputs": [
    {
     "data": {
      "text/plain": [
       "True"
      ]
     },
     "execution_count": 19,
     "metadata": {},
     "output_type": "execute_result"
    }
   ],
   "source": [
    "#Solution 2: Reducing the time complexity\n",
    "def k_is_sum(L,K):\n",
    "    lst = []\n",
    "    for l in L:\n",
    "        complement = K - l\n",
    "        if complement in lst:\n",
    "            return True\n",
    "        lst.append(l)\n",
    "\n",
    "    return False\n",
    "L = [10, 15, 3, 7]\n",
    "K = 10\n",
    "k_is_sum(L,K)"
   ]
  },
  {
   "cell_type": "markdown",
   "id": "497f6d2f-b77f-4e96-a529-566afcab6c48",
   "metadata": {},
   "source": [
    "### Problem #5 [Medium] \n",
    "\n",
    "This problem was asked by Jane Street.\n",
    "\n",
    "<code>cons(a, b)</code> constructs a pair, and <code>car(pair)</code> and <code>cdr(pair)</code> returns the first and last element of that pair. For example, <code>car(cons(3, 4))</code> returns <code>3</code>, and <code>cdr(cons(3, 4))</code> returns <code>4</code>.\n",
    "\n",
    "Given this implementation of cons:\n",
    "```\n",
    "def cons(a, b):\n",
    "    def pair(f):\n",
    "        return f(a, b)\n",
    "    return pair\n",
    "```\n",
    "Implement <code>car</code> and <code>cdr</code>."
   ]
  },
  {
   "cell_type": "code",
   "execution_count": 25,
   "id": "d46dbd97-c9a4-46ae-a1a8-c6c023276c20",
   "metadata": {},
   "outputs": [
    {
     "data": {
      "text/plain": [
       "4"
      ]
     },
     "execution_count": 25,
     "metadata": {},
     "output_type": "execute_result"
    }
   ],
   "source": [
    "def cons(a, b):\n",
    "    def pair(f):\n",
    "        return f(a, b)\n",
    "    return pair\n",
    "\n",
    "def car(pair):\n",
    "    def first(a,b):\n",
    "        return a\n",
    "    return pair(first)\n",
    "    \n",
    "def cdr(pair):\n",
    "    def second(a,b):\n",
    "        return b\n",
    "    return pair(second)\n",
    "\n",
    "cdr(cons(3, 4))"
   ]
  },
  {
   "cell_type": "markdown",
   "id": "9e8831d6-10bb-41dc-a730-b14eccafd7e7",
   "metadata": {},
   "source": [
    "### Problem #21 [Easy] (Unfinished)\n",
    "This problem was asked by Snapchat.\n",
    "\n",
    "Given an array of time intervals (start, end) for classroom lectures (possibly overlapping), find the minimum number of rooms required.\n",
    "\n",
    "For example, given [(30, 75), (0, 50), (60, 150)], you should return 2."
   ]
  },
  {
   "cell_type": "code",
   "execution_count": 10,
   "id": "a1e7a34d-b70d-497f-bdcf-a5eb56c20f47",
   "metadata": {},
   "outputs": [
    {
     "data": {
      "text/plain": [
       "False"
      ]
     },
     "execution_count": 10,
     "metadata": {},
     "output_type": "execute_result"
    }
   ],
   "source": [
    "#Solution\n",
    "def min_rooms(array):\n",
    "    for i in range(len(array)):\n",
    "        for j in range(l\n",
    "\n",
    "array = [(30, 75), (0, 50), (60, 150)]\n",
    "min_rooms(array)"
   ]
  },
  {
   "cell_type": "markdown",
   "id": "4ec9851d-38ad-4071-bf47-a8f910af005b",
   "metadata": {},
   "source": [
    "### Problem #23 [Easy] (Unfinished)\n",
    "This problem was asked by Facebook.\n",
    "\n",
    "Given a string of round, curly, and square open and closing brackets, return whether the brackets are balanced (well-formed).\n",
    "\n",
    "For example, given the string \"([])[]({})\", you should return true.\n",
    "\n",
    "Given the string \"([)]\" or \"((()\", you should return false."
   ]
  },
  {
   "cell_type": "markdown",
   "id": "1772949d-b13f-47fe-b5aa-b5b91c5e9c9a",
   "metadata": {},
   "source": [
    "### Problem #27 [Easy] (Unfinished)\n",
    "This problem was asked by Amazon.\n",
    "\n",
    "Run-length encoding is a fast and simple method of encoding strings. The basic idea is to represent repeated successive characters as a single count and character. For example, the string \"AAAABBBCCDAA\" would be encoded as \"4A3B2C1D2A\".\n",
    "\n",
    "Implement run-length encoding and decoding. You can assume the string to be encoded have no digits and consists solely of alphabetic characters. You can assume the string to be decoded is valid."
   ]
  },
  {
   "cell_type": "markdown",
   "id": "3f6c3dc5-80b0-4943-8a41-1a5d055c8324",
   "metadata": {},
   "source": [
    "### Problem #31 [Easy] (Unfinished)\n",
    "This problem was asked by Google.\n",
    "\n",
    "The edit distance between two strings refers to the minimum number of character insertions, deletions, and substitutions required to change one string to the other. For example, the edit distance between “kitten” and “sitting” is three: substitute the “k” for “s”, substitute the “e” for “i”, and append a “g”.\n",
    "\n",
    "Given two strings, compute the edit distance between them."
   ]
  },
  {
   "cell_type": "markdown",
   "id": "4f514789-913e-4291-923f-5778a197ef28",
   "metadata": {},
   "source": [
    "### Problem #37 [Easy] (Unfinished)\n",
    "This problem was asked by Google.\n",
    "\n",
    "The power set of a set is the set of all its subsets. Write a function that, given a set, generates its power set.\n",
    "\n",
    "For example, given the set {1, 2, 3}, it should return {{}, {1}, {2}, {3}, {1, 2}, {1, 3}, {2, 3}, {1, 2, 3}}.\n",
    "\n",
    "You may also use a list or array to represent a set."
   ]
  },
  {
   "cell_type": "markdown",
   "id": "3dd8b547-f51b-45ca-85dd-fe33713e9568",
   "metadata": {},
   "source": [
    "### Problem #537 [Easy] \n",
    "This problem was asked by Apple.\n",
    "\n",
    "A Collatz sequence in mathematics can be defined as follows. Starting with any positive integer:\n",
    "\n",
    "- if n is even, the next number in the sequence is n / 2\n",
    "- if n is odd, the next number in the sequence is 3n + 1\n",
    "It is conjectured that every such sequence eventually reaches the number <code>1</code>. Test this conjecture.\n",
    "\n",
    "Bonus: What input <code>n <= 1000000</code> gives the longest sequence?"
   ]
  },
  {
   "cell_type": "code",
   "execution_count": 85,
   "id": "436fba04-8d28-46da-a789-7a4b71f62d8c",
   "metadata": {},
   "outputs": [
    {
     "data": {
      "text/plain": [
       "(837799, 525)"
      ]
     },
     "execution_count": 85,
     "metadata": {},
     "output_type": "execute_result"
    }
   ],
   "source": [
    "def collatz_max():\n",
    "    max_length = 0\n",
    "    the_number = 0  # To store the starting number with the longest sequence\n",
    "\n",
    "    for j in range(1, 1000001):\n",
    "        n = j  # Preserve the original starting number for each `j`\n",
    "        i = 1  # Initialize the length of the sequence\n",
    "        n_coll = []\n",
    "        while n > 1:\n",
    "            if n % 2 == 0:\n",
    "                n = n // 2  # Integer division for even numbers\n",
    "            else:\n",
    "                n = 3 * n + 1  # The 3n + 1 step for odd numbers\n",
    "            i += 1  # Increment the sequence length\n",
    "        n_coll.append(n) #To test the vonjecture whenther all n results 1\n",
    "\n",
    "        if n_coll[-1] != 1:\n",
    "            return \"Conjecture failed!\"\n",
    "        else:\n",
    "            if i > max_length:  # Check if the current sequence is the longest found so far\n",
    "                max_length = i\n",
    "                the_number = j  # Update the number that produces the longest sequence\n",
    "        \n",
    "    return the_number, max_length  # Return the starting number and the length of the sequence\n",
    "\n",
    "# Call the function and print the result\n",
    "collatz_max()\n"
   ]
  },
  {
   "cell_type": "markdown",
   "id": "3674dea1-2028-480d-b0ad-376caf2e95f7",
   "metadata": {},
   "source": [
    "### Problem #649 [Easy] \n",
    "This problem was asked by Google.\n",
    "\n",
    "Given a string, return the first recurring character in it, or null if there is no recurring character.\n",
    "\n",
    "For example, given the string \"acbbac\", return \"b\". Given the string \"abcdef\", return null."
   ]
  },
  {
   "cell_type": "code",
   "execution_count": 38,
   "id": "0ad1443a-6043-4dcd-9c38-11f15861119d",
   "metadata": {},
   "outputs": [],
   "source": [
    "def recurr_char(string):\n",
    "    for i in range(len(string)-1):\n",
    "        if string[i]==string[i+1]:\n",
    "            return string[i]\n",
    "    return None\n",
    "\n",
    "string = \"abcdef\"\n",
    "recurr_char(string)"
   ]
  },
  {
   "cell_type": "markdown",
   "id": "74462caf-5a3a-440e-8e84-7cd01b69d17a",
   "metadata": {},
   "source": [
    "### Problem #708 [Easy] \n",
    "This problem was asked by Apple.\n",
    "\n",
    "A fixed point in an array is an element whose value is equal to its index. Given a sorted array of distinct elements, return a fixed point, if one exists. Otherwise, return False.\n",
    "\n",
    "For example, given <code>[-6, 0, 2, 40]</code>, you should return 2. Given <code>[1, 5, 7, 8]</code>, you should return <code>False</code>."
   ]
  },
  {
   "cell_type": "code",
   "execution_count": 18,
   "id": "db484b88-980b-4096-a7f8-0f7f59aba79f",
   "metadata": {},
   "outputs": [
    {
     "data": {
      "text/plain": [
       "False"
      ]
     },
     "execution_count": 18,
     "metadata": {},
     "output_type": "execute_result"
    }
   ],
   "source": [
    "#Solution\n",
    "def fixed_point(sorted_array):\n",
    "    for i, item in enumerate(sorted_array):\n",
    "        if i == item:\n",
    "            return i\n",
    "    return False\n",
    "\n",
    "sorted_array = [1, 5, 7, 8]\n",
    "fixed_point(sorted_array)"
   ]
  },
  {
   "cell_type": "markdown",
   "id": "c2b8b845-2ba4-459f-a0df-af6096ae10a7",
   "metadata": {},
   "source": [
    "### Problem #716 \n",
    "### Egyptian Fraction\n",
    "*This problem was asked by Palantir.*\n",
    "\n",
    "The ancient Egyptians used to express fractions as a sum of several terms where each numerator is one. For example, <code>4 / 13</code> can be represented as <code>1 / 4 + 1 / 18 + 1 / 468</code>.\n",
    "\n",
    "Create an algorithm to turn an ordinary fraction <code>a / b</code>, where <code>a < b</code>, into an Egyptian fraction."
   ]
  },
  {
   "cell_type": "markdown",
   "id": "52eef0ef-1bd3-43a3-8d41-914c9a579a34",
   "metadata": {},
   "source": [
    "**Greedy Algorithm for Decomposing a Fraction into Unit Fractions**\n",
    "\n",
    "One popular method to decompose a fraction into a sum of unit fractions is the **greedy algorithm**. This approach works as follows:\n",
    "\n",
    "1. Start with the given fraction \\( $\\frac{a}{b}$ \\), where $a $ is the numerator and $ b $ is the denominator.\n",
    "\n",
    "2. Find the smallest integer $ k$ such that $ \\frac{1}{k} $ is less than or equal to $\\frac{a}{b}$, i.e., \n",
    "   $\n",
    "   \\frac{1}{k} \\leq \\frac{a}{b}\n",
    "   $\n",
    "   - This $ k $ is $ = \\left\\lceil \\frac{b}{a} \\right\\rceil $), the ceiling of the ratio of the denominator to the numerator.\n",
    "\n",
    "3. Subtract $\\frac{1}{k}$ from $\\frac{a}{b}$ to get a new fraction $\\frac{a'}{b'}$.\n",
    "\n",
    "4. Repeat the process with $\\frac{a'}{b'}$ until the remainder is $0$.\n"
   ]
  },
  {
   "cell_type": "code",
   "execution_count": 19,
   "id": "92cdae7e-ee15-4014-98e5-6a2536fb01b8",
   "metadata": {},
   "outputs": [
    {
     "name": "stdout",
     "output_type": "stream",
     "text": [
      "1/4 + 1/18 + 1/468\n"
     ]
    }
   ],
   "source": [
    "import math\n",
    "\n",
    "def egyptian_fraction(frac):\n",
    "    fractions = []\n",
    "    \n",
    "    # Loop until the fraction becomes zero\n",
    "    while frac > 0:\n",
    "        # Find the smallest integer k such that 1/k is less than or equal to frac\n",
    "        k = math.ceil(1 / frac)\n",
    "        fractions.append(k)\n",
    "        \n",
    "        # Subtract 1/k from the fraction\n",
    "        frac -= 1 / k\n",
    "        \n",
    "        # If the fraction is very small (close to zero), we can stop\n",
    "        if frac < 1e-10:  # precision threshold\n",
    "            break\n",
    "    \n",
    "    # Format the output as a string in the form \"4/13 = 1/4 + 1/18 + 1/468\"\n",
    "    result = f\"1/{fractions[0]}\"\n",
    "    for k in fractions[1:]:\n",
    "        result += f\" + 1/{k}\"\n",
    "    \n",
    "    return result\n",
    "\n",
    "# Test the function with 4/13\n",
    "print(egyptian_fraction(4/13))\n"
   ]
  },
  {
   "cell_type": "markdown",
   "id": "1d647148-6186-414b-86b6-9e6a965fac87",
   "metadata": {},
   "source": [
    "**Problem #716** [Easy]\n",
    "\n",
    "*This problem was asked by Google.*\n",
    "\n",
    "UTF-8 is a character encoding that maps each symbol to one, two, three, or four bytes.\n",
    "\n",
    "For example, the Euro sign, €, corresponds to the three bytes 11100010 10000010 10101100. The rules for mapping characters are as follows:\n",
    "\n",
    "For a single-byte character, the first bit must be zero.\n",
    "For an n-byte character, the first byte starts with n ones and a zero. The other n - 1 bytes all start with 10.\n",
    "Visually, this can be represented as follows.\n",
    "\n",
    " Bytes | Byte format\n",
    "------|------------------------------------------------\n",
    "   1  | 0xxxxxxx\n",
    "   2  | 110xxxxx 10xxxxxx\n",
    "   3  | 1110xxxx 10xxxxxx 10xxxxxx\n",
    "   4  | 11110xxx 10xxxxxx 10xxxxxx 10xxxxxx\n",
    "\n",
    "Write a program that takes in an array of integers representing byte values, and returns whether it is a valid UTF-8 encoding."
   ]
  },
  {
   "cell_type": "code",
   "execution_count": 20,
   "id": "b8c77158-e9a5-42a0-b063-f85bff2372a2",
   "metadata": {},
   "outputs": [
    {
     "name": "stdout",
     "output_type": "stream",
     "text": [
      "UTF-8\n"
     ]
    }
   ],
   "source": [
    "#SOLUTION\n",
    "# Convert each integer to binary and check UTF-8 encoding\n",
    "def isutf(sample_arr):\n",
    "    # Convert each integer to an 8-bit binary string\n",
    "    binary_arr = [bin(num)[2:].zfill(8) for num in sample_arr]\n",
    "    \n",
    "    # Check for different lengths of the byte sequence\n",
    "    if len(sample_arr) == 1:\n",
    "        # 1-byte character: starts with 0xxxxxxx\n",
    "        if binary_arr[0][0] == '0':\n",
    "            return \"UTF-8\"\n",
    "    elif len(sample_arr) == 2:\n",
    "        # 2-byte character: 110xxxxx 10xxxxxx\n",
    "        if binary_arr[0][:3] == '110' and binary_arr[1][:2] == '10':\n",
    "            return \"UTF-8\"\n",
    "    elif len(sample_arr) == 3:\n",
    "        # 3-byte character: 1110xxxx 10xxxxxx 10xxxxxx\n",
    "        if binary_arr[0][:4] == '1110' and binary_arr[1][:2] == '10' and binary_arr[2][:2] == '10':\n",
    "            return \"UTF-8\"\n",
    "    elif len(sample_arr) == 4:\n",
    "        # 4-byte character: 11110xxx 10xxxxxx 10xxxxxx 10xxxxxx\n",
    "        if binary_arr[0][:5] == '11110' and binary_arr[1][:2] == '10' and binary_arr[2][:2] == '10' and binary_arr[3][:2] == '10':\n",
    "            return \"UTF-8\"\n",
    "    else:\n",
    "        return \"Not UTF\"\n",
    "\n",
    "    return \"Not UTF\"\n",
    "\n",
    "# Test case\n",
    "sample_arr = [0b11000011, 0b10110110]\n",
    "print(isutf(sample_arr))\n"
   ]
  },
  {
   "cell_type": "markdown",
   "id": "8359661f-95bb-4a5b-84be-68f8b1d38d71",
   "metadata": {},
   "source": [
    "**Problem #718** [Medium]\n",
    "\n",
    "This problem was asked by Apple.\n",
    "\n",
    "Gray code is a binary code where each successive value differ in only one bit, as well as when wrapping around. Gray code is common in hardware so that we don't see temporary spurious values during transitions.\n",
    "\n",
    "Given a number of bits <code>n</code>, generate a possible gray code for it.\n",
    "\n",
    "For example, for n = <code>2</code>, one gray code would be <code>[00, 01, 11, 10]</code>"
   ]
  },
  {
   "cell_type": "code",
   "execution_count": 21,
   "id": "a8233317-07d9-47d7-88d9-66b8d4ca7c14",
   "metadata": {},
   "outputs": [
    {
     "data": {
      "text/plain": [
       "['00000',\n",
       " '00001',\n",
       " '00011',\n",
       " '00010',\n",
       " '00110',\n",
       " '00111',\n",
       " '00101',\n",
       " '00100',\n",
       " '01100',\n",
       " '01101',\n",
       " '01111',\n",
       " '01110',\n",
       " '01010',\n",
       " '01011',\n",
       " '01001',\n",
       " '01000',\n",
       " '11000',\n",
       " '11001',\n",
       " '11011',\n",
       " '11010',\n",
       " '11110',\n",
       " '11111',\n",
       " '11101',\n",
       " '11100',\n",
       " '10100',\n",
       " '10101',\n",
       " '10111',\n",
       " '10110',\n",
       " '10010',\n",
       " '10011',\n",
       " '10001',\n",
       " '10000']"
      ]
     },
     "execution_count": 21,
     "metadata": {},
     "output_type": "execute_result"
    }
   ],
   "source": [
    "#Solution\n",
    "#Gray code involves writing the MSB of binary as it is, and XORing each other bits.\n",
    "def gray_code(n):\n",
    "    gray_list=[]\n",
    "    for i in range(0,2**n):\n",
    "        gray = i^(i>>1)\n",
    "        gray_list.append(bin(gray)[2:].zfill(n))#for num in sample_arr])\n",
    "    return gray_list\n",
    "\n",
    "gray_code(5)"
   ]
  },
  {
   "cell_type": "markdown",
   "id": "7310181e-e8bf-4fc6-b0be-bf4e58f2073a",
   "metadata": {},
   "source": [
    "**Problem #719** [Easy]\n",
    "This problem was asked by Dropbox.\n",
    "\n",
    "Spreadsheets often use this alphabetical encoding for its columns: \"A\", \"B\", \"C\", ..., \"AA\", \"AB\", ..., \"ZZ\", \"AAA\", \"AAB\", ....\n",
    "\n",
    "Given a column number, return its alphabetical column id. For example, given 1, return \"A\". Given 27, return \"AA\"."
   ]
  },
  {
   "cell_type": "code",
   "execution_count": 22,
   "id": "3a7474e1-7580-4d66-965c-0575aaaf9715",
   "metadata": {},
   "outputs": [
    {
     "data": {
      "text/plain": [
       "'BJ'"
      ]
     },
     "execution_count": 22,
     "metadata": {},
     "output_type": "execute_result"
    }
   ],
   "source": [
    "import string\n",
    "\n",
    "letters = string.ascii_uppercase\n",
    "\n",
    "def column_code(n):\n",
    "    result=[]\n",
    "    while n >0:\n",
    "        n -= 1\n",
    "        result.append(letters[n%26])\n",
    "        n //= 26\n",
    "    return ''.join(result[::-1])\n",
    "       \n",
    "column_code(62)"
   ]
  },
  {
   "cell_type": "markdown",
   "id": "5caa9249-ba27-44ff-aa1a-d3c800f43cf4",
   "metadata": {},
   "source": [
    "**Problem #645** [Easy]\n",
    "This problem was asked by Microsoft.\n",
    "\n",
    "Given a 2D matrix of characters and a target word, write a function that returns whether the word can be found in the matrix by going left-to-right, or up-to-down.\n",
    "\n",
    "For example, given the following matrix:\n",
    "```\n",
    "[['F', 'A', 'C', 'I'],\n",
    " ['O', 'B', 'Q', 'P'],\n",
    " ['A', 'N', 'O', 'B'],\n",
    " ['M', 'A', 'S', 'S']]\n",
    "```\n",
    "and the target word 'FOAM', you should return <code>true</code>, since it's the leftmost column. Similarly, given the target word 'MASS', you should return <code>true</code>, since it's the last row."
   ]
  },
  {
   "cell_type": "code",
   "execution_count": 23,
   "id": "135dc4ba-07a0-4059-9eb6-69d137fa1f51",
   "metadata": {},
   "outputs": [
    {
     "name": "stdout",
     "output_type": "stream",
     "text": [
      "True\n",
      "True\n",
      "False\n"
     ]
    }
   ],
   "source": [
    "def word_exists(matrix, word):\n",
    "    rows = len(matrix)\n",
    "    cols = len(matrix[0])\n",
    "    \n",
    "    # Check horizontally (left-to-right) in each row\n",
    "    for row in matrix:\n",
    "        if word in ''.join(row):  # Join row into a string and check if word exists\n",
    "            return True\n",
    "    \n",
    "    # Check vertically (top-to-bottom) in each column\n",
    "    for col in range(cols):\n",
    "        # Construct a string from top to bottom for the column\n",
    "        vertical_word = ''.join(matrix[row][col] for row in range(rows))\n",
    "        if word in vertical_word:\n",
    "            return True\n",
    "    \n",
    "    return False\n",
    "\n",
    "# Example usage\n",
    "matrix = [['F', 'A', 'C', 'I'],\n",
    "          ['O', 'B', 'Q', 'P'],\n",
    "          ['A', 'N', 'O', 'B'],\n",
    "          ['M', 'A', 'S', 'S']]\n",
    "\n",
    "# Check if the word 'FOAM' exists\n",
    "print(word_exists(matrix, 'FOAM'))  # Expected output: True\n",
    "\n",
    "# Check if the word 'MASS' exists\n",
    "print(word_exists(matrix, 'ANOB'))  # Expected output: True\n",
    "\n",
    "# Check if the word 'CABS' exists\n",
    "print(word_exists(matrix, 'SBFI'))  # Expected output: False\n"
   ]
  },
  {
   "cell_type": "markdown",
   "id": "c0f09447-5884-4514-bc4b-7cb1e4047979",
   "metadata": {},
   "source": [
    "**Problem #645** [Medium]\n",
    "\n",
    "This problem was asked by Squarespace.\n",
    "\n",
    "Write a function, add_subtract, which alternately adds and subtracts curried arguments. Here are some sample operations:\n",
    "\n",
    "```\n",
    "add_subtract(7) -> 7\n",
    "\n",
    "add_subtract(1)(2)(3) -> 1 + 2 - 3 -> 0\n",
    "\n",
    "add_subtract(-5)(10)(3)(9) -> -5 + 10 - 3 + 9 -> 11\n",
    "```"
   ]
  },
  {
   "cell_type": "code",
   "execution_count": 24,
   "id": "fcbbe526-de88-4e20-bb60-424a03c9ec15",
   "metadata": {},
   "outputs": [
    {
     "name": "stdout",
     "output_type": "stream",
     "text": [
      "11\n"
     ]
    }
   ],
   "source": [
    "#Solution\n",
    "\n",
    "def add_subtract(*args):\n",
    "    result = args[0]\n",
    "    for i, num in enumerate(args[1:], start=1):\n",
    "        if i % 2 == 0:\n",
    "            result -= num\n",
    "        else:\n",
    "            result += num\n",
    "    return result  # Corrected indentation\n",
    "\n",
    "print(add_subtract(-5,10,3,9))  # This will print the result\n"
   ]
  },
  {
   "cell_type": "markdown",
   "id": "17b2cea1-03f1-409c-9f37-65063fd25427",
   "metadata": {},
   "source": [
    "**Problem #668** [Medium]\n",
    "\n",
    "This problem was asked by Google.\n",
    "\n",
    "In linear algebra, a Toeplitz matrix is one in which the elements on any given diagonal from top left to bottom right are identical.\n",
    "\n",
    "Here is an example:\n",
    "```\n",
    "1 2 3 4 8\n",
    "5 1 2 3 4\n",
    "4 5 1 2 3\n",
    "7 4 5 1 2\n",
    "```\n",
    "Write a program to determine whether a given input is a Toeplitz matrix."
   ]
  },
  {
   "cell_type": "code",
   "execution_count": 25,
   "id": "dd628ac2-3344-436d-be50-d93a03f0fc62",
   "metadata": {},
   "outputs": [
    {
     "data": {
      "text/plain": [
       "'Toeplitz!'"
      ]
     },
     "execution_count": 25,
     "metadata": {},
     "output_type": "execute_result"
    }
   ],
   "source": [
    "#SOlution\n",
    "\n",
    "def toeplitz(M):\n",
    "    initial = M[0][0]\n",
    "    n_rows= len(M)\n",
    "    n_cols= len(M[0])\n",
    "    for i in range(n_rows-1):\n",
    "        for j in range(n_cols-1):\n",
    "            if M[i][j] != M[i+1][j+1]:\n",
    "                return \"Not Toeplitz!\"\n",
    "    return \"Toeplitz!\"\n",
    "        \n",
    "            \n",
    "M = [[1,2,3, 4, 8],\n",
    "[5, 1, 2, 3, 4],\n",
    "[3, 5, 1, 2, 3],\n",
    "[7, 3, 5, 1, 2]]\n",
    "\n",
    "toeplitz(M)"
   ]
  },
  {
   "cell_type": "markdown",
   "id": "d9cd597b-31ce-48fb-8ee7-789fc20ef484",
   "metadata": {},
   "source": [
    "### Problem #725 [Easy]\n",
    "\n",
    "This problem was asked by Amazon.\n",
    "\n",
    "Consider the following scenario: there are <code>N</code> mice and  <code>N</code> holes placed at integer points along a line. Given this, find a method that maps mice to holes such that the largest number of steps any mouse takes is minimized.\n",
    "\n",
    "Each move consists of moving one mouse one unit to the left or right, and only one mouse can fit inside each hole.\n",
    "\n",
    "For example, suppose the mice are positioned at <code>[1, 4, 9, 15]</code>, and the holes are located at <code>[10, -5, 0, 16]</code>. In this case, the best pairing would require us to send the mouse at <code>1</code> to the hole at <code>-5</code>, so our function should return <code>6</code>."
   ]
  },
  {
   "cell_type": "markdown",
   "id": "97ccdea8-7195-471d-9ca0-6d0c1b579bf2",
   "metadata": {},
   "source": [
    "#### GUIDE:\n",
    "This problem is about minimizing the maximum distance any mouse needs to move to reach a hole. It is not about minimizing the individual distances for each mouse, but instead, ensuring that no mouse has to travel an excessively large distance compared to the others. Let me clarify with an explanation.\n",
    "\n",
    "If we sort the mice and holes by their positions, we can pair them greedily from left to right.\n",
    "The reasoning is that, by sorting, the nearest holes for a set of mice are likely to be in sequential order, minimizing the largest step.\n",
    "\n",
    "The goal is to minimize the maximum distance any mouse needs to travel, which is achieved by pairing the nearest available hole to each mouse.\n",
    "Steps to Solve:\n",
    "1. Sort the mice's positions.\n",
    "2. Sort the holes' positions.\n",
    "3. Match the sorted mice and holes one by one, and calculate the distances for these pairings.\n",
    "4. Return the maximum distance from these pairings, as that represents the worst-case travel distance.\n",
    "\n",
    "Example Solution:\n",
    "Input:\n",
    "Mice: <code>[1, 4, 9, 15]</code>\n",
    "Holes: <code>[10, -5, 0, 16]</code>\n",
    "Steps:\n",
    "Sort the positions:\n",
    "\n",
    "Mice: <code>[1, 4, 9, 15]</code>\n",
    "Holes: <code>[-5, 0, 10, 16]</code>\n",
    "Pair the mice with the holes one by one:\n",
    "```\n",
    "Mouse at 1 → Hole at -5 → Distance = |1 - (-5)| = 6\n",
    "Mouse at 4 → Hole at 0 → Distance = |4 - 0| = 4\n",
    "Mouse at 9 → Hole at 10 → Distance = |9 - 10| = 1\n",
    "Mouse at 15 → Hole at 16 → Distance = |15 - 16| = 1\n",
    "Maximum distance: 6\n",
    "```\n",
    "Thus, the optimal solution returns 6."
   ]
  },
  {
   "cell_type": "code",
   "execution_count": 26,
   "id": "109e0726-8e7f-434e-9f21-c678a6c45294",
   "metadata": {},
   "outputs": [
    {
     "data": {
      "text/plain": [
       "([6, 4, 1, 1], 12)"
      ]
     },
     "execution_count": 26,
     "metadata": {},
     "output_type": "execute_result"
    }
   ],
   "source": [
    "#Solution\n",
    "def minimized_steps(mice_p,hole_p):\n",
    "    mice_p.sort()\n",
    "    hole_p.sort()\n",
    "\n",
    "    min_dist = [abs(a-b) for a,b in zip(mice_p, hole_p)] \n",
    "    return min_dist, sum(min_dist)\n",
    "mice_p = [1, 4, 9, 15,]\n",
    "hole_p = [-5, 0, 10, 16]\n",
    "minimized_steps(mice_p,hole_p)"
   ]
  },
  {
   "cell_type": "markdown",
   "id": "1218b84d-fae8-42dd-9ace-ba9fdee1a2bc",
   "metadata": {},
   "source": [
    "**Problem #645** [Medium]\n",
    "\n",
    "This problem was asked by Slack.\n",
    "\n",
    "You are given an N by M matrix of 0s and 1s. Starting from the top left corner, how many ways are there to reach the bottom right corner?\n",
    "\n",
    "You can only move right and down. 0 represents an empty space while 1 represents a wall you cannot walk through.\n",
    "\n",
    "For example, given the following matrix:\n",
    "```\n",
    "[[0, 0, 1],\n",
    " [0, 0, 1],\n",
    " [1, 0, 0]]\n",
    "```\n",
    "Return two, as there are only two ways to get to the bottom right:\n",
    "\n",
    "Right, down, down, right\n",
    "Down, right, down, right\n",
    "The top left corner and bottom right corner will always be 0."
   ]
  },
  {
   "cell_type": "markdown",
   "id": "306ca0fd-d0a3-42b9-90b3-3b9927caff3e",
   "metadata": {},
   "source": [
    "### Problem #727 [Easy] \n",
    "This problem was asked by Microsoft.\n",
    "\n",
    "Compute the running median of a sequence of numbers. That is, given a stream of numbers, print out the median of the list so far on each new element.\n",
    "\n",
    "Recall that the median of an even-numbered list is the average of the two middle numbers.\n",
    "\n",
    "For example, given the sequence [2, 1, 5, 7, 2, 0, 5], your algorithm should print out:\n",
    "```\n",
    "2\n",
    "1.5\n",
    "2\n",
    "3.5\n",
    "2\n",
    "2\n",
    "2\n",
    "```"
   ]
  },
  {
   "cell_type": "code",
   "execution_count": 25,
   "id": "2d0918e8-7fed-44d1-ae7f-e3dbb4faa556",
   "metadata": {},
   "outputs": [
    {
     "name": "stdout",
     "output_type": "stream",
     "text": [
      "[2.0, 1.5, 2.0, 3.5, 2.0, 2.0, 2.0]\n"
     ]
    }
   ],
   "source": [
    "import numpy as np\n",
    "sequence = [2, 1, 5, 7, 2, 0, 5]\n",
    "first = [sequence[0]]\n",
    "med_list =[]\n",
    "for i in range(len(sequence)):\n",
    "    m = np.median(first)\n",
    "    med_list.append(m)\n",
    "    first.append(sequence[i + 1]) if i < len(sequence) - 1 else None\n",
    "print(med_list)"
   ]
  },
  {
   "cell_type": "code",
   "execution_count": 6,
   "id": "541dd696-1287-4a8c-9149-c859ef3e382c",
   "metadata": {},
   "outputs": [
    {
     "name": "stdout",
     "output_type": "stream",
     "text": [
      "1\n",
      "2\n",
      "3\n"
     ]
    }
   ],
   "source": [
    "def make_functions():\n",
    "    flist = []\n",
    "\n",
    "    for i in [1, 2, 3]:\n",
    "        def print_i(val=i):\n",
    "            print(val)\n",
    "        flist.append(print_i)\n",
    "\n",
    "    return flist\n",
    "\n",
    "functions = make_functions()\n",
    "for f in functions:\n",
    "    f()"
   ]
  },
  {
   "cell_type": "markdown",
   "id": "b09f9728-c7d6-4759-93a3-f02ca336f70f",
   "metadata": {},
   "source": [
    "### Problem #727 [Easy] \n",
    "This problem was asked by Google.\n",
    "\n",
    "A regular number in mathematics is defined as one which evenly divides some power of 60. Equivalently, we can say that a regular number is one whose only prime divisors are 2, 3, and 5.\n",
    "\n",
    "These numbers have had many applications, from helping ancient Babylonians keep time to tuning instruments according to the diatonic scale.\n",
    "\n",
    "Given an integer N, write a program that returns, in order, the first N regular numbers."
   ]
  },
  {
   "cell_type": "code",
   "execution_count": 12,
   "id": "b718f7da-bd3f-455b-b065-deb692d642ac",
   "metadata": {},
   "outputs": [
    {
     "name": "stdout",
     "output_type": "stream",
     "text": [
      "[1, 2, 3, 4, 5, 6, 8, 9, 10, 12, 15, 16, 18, 20, 24, 25, 27, 30, 32, 36, 40, 45, 48, 50, 54, 60, 64, 72, 75, 80, 81, 90, 96, 100, 108, 120, 125, 128, 135, 144, 150, 160, 162, 180, 192, 200, 216, 225, 240, 243, 250, 256, 270, 288, 300, 320, 324, 360, 375, 384, 400, 405, 432, 450, 480, 486, 500, 512, 540, 576, 600, 625, 640, 648, 675, 720, 729, 750, 768, 800, 810, 864, 900, 960, 972, 1000, 1024, 1080, 1125, 1152, 1200, 1215, 1250, 1280, 1296, 1350, 1440, 1458, 1500, 1536]\n"
     ]
    }
   ],
   "source": [
    "def regular_no(n):\n",
    "    regular_numbers = set()  # Use a set to avoid duplicates\n",
    "    for i in range(n):\n",
    "        for j in range(n):\n",
    "            for k in range(n):\n",
    "                no = 2**i * 3**j * 5**k\n",
    "                regular_numbers.add(no)  # Adds `no` to the set automatically avoiding duplicates\n",
    "    \n",
    "    # Convert set to list, sort it, and return the first `n` regular numbers\n",
    "    regular_numbers = sorted(regular_numbers)\n",
    "    return regular_numbers[:n]\n",
    "\n",
    "# Get the first 10 regular numbers\n",
    "print(regular_no(100))\n"
   ]
  },
  {
   "cell_type": "markdown",
   "id": "b5fa27be-9b5a-4033-b84e-6cbb783c15d0",
   "metadata": {},
   "source": [
    "### Problem #782 [Easy]\n",
    "This problem was asked by Palantir.\n",
    "\n",
    "In academia, the h-index is a metric used to calculate the impact of a researcher's papers. It is calculated as follows:\n",
    "\n",
    "A researcher has index <code>h</code> if at least <code>h</code> of her <code>N</code> papers have <code>h</code> citations each. If there are multiple <code>h</code> satisfying this formula, the maximum is chosen.\n",
    "\n",
    "For example, suppose <code>N</code> = 5, and the respective citations of each paper are <code>[4, 3, 0, 1, 5]</code>. Then the h-index would be <code>3</code>, since the researcher has <code>3</code> papers with at least <code>3</code> citations.\n",
    "\n",
    "Given a list of paper citations of a researcher, calculate their h-index."
   ]
  },
  {
   "cell_type": "code",
   "execution_count": null,
   "id": "8a5067d5-8964-416a-878e-a55896d9507e",
   "metadata": {},
   "outputs": [],
   "source": []
  }
 ],
 "metadata": {
  "kernelspec": {
   "display_name": "Python 3 (ipykernel)",
   "language": "python",
   "name": "python3"
  },
  "language_info": {
   "codemirror_mode": {
    "name": "ipython",
    "version": 3
   },
   "file_extension": ".py",
   "mimetype": "text/x-python",
   "name": "python",
   "nbconvert_exporter": "python",
   "pygments_lexer": "ipython3",
   "version": "3.12.4"
  }
 },
 "nbformat": 4,
 "nbformat_minor": 5
}
